{
 "cells": [
  {
   "cell_type": "markdown",
   "id": "752de197",
   "metadata": {},
   "source": [
    "## How to design a qubit (part 1)"
   ]
  },
  {
   "cell_type": "markdown",
   "id": "44f66409",
   "metadata": {},
   "source": [
    "The core of a quantum chip is the qubit, so it's very important to know how to design it. In this article, we’ll see the key steps to follow in designing a qubit and how to simulate it to verify that everything works correctly. The tools we'll use are Qiskit-metal and Ansys (Q3D and HFSS)"
   ]
  },
  {
   "cell_type": "markdown",
   "id": "5d17a406",
   "metadata": {},
   "source": [
    "Qubit design begins with defining its characteristic parameters, such as transition frequency and anharmonicity, from which the effective capacitance and inductance can be derived. Suppose we want to design a qubit with a frequency of 5 GHz and an anharmonicity of 250MHz. We need to keep in mind two important formulas:\n",
    "\n",
    "$$ \\alpha \\simeq E_c=\\frac{e^2}{2hC_q}$$\n",
    "$$ f=\\frac{1}{2\\pi \\sqrt{L_jC_q}}$$\n",
    "From these, we can extract:\n",
    "$$ C_q=\\frac{e^2}{2h\\alpha}$$\n",
    "$$ L_j=\\frac{1}{(2\\pi f)^2Cq}$$"
   ]
  },
  {
   "cell_type": "code",
   "execution_count": 10,
   "id": "b3a8e268",
   "metadata": {},
   "outputs": [
    {
     "name": "stdout",
     "output_type": "stream",
     "text": [
      "77.4809178907237\n",
      "13.076920924612372\n"
     ]
    }
   ],
   "source": [
    "import numpy as np\n",
    "e = 1.60217657e-19  # electron charge\n",
    "h = 6.62606957e-34  # Plank's\n",
    "\n",
    "alpha=250e6\n",
    "f=5e9\n",
    "\n",
    "C=e**2/2/h/alpha\n",
    "L=1/C/(2*np.pi*f)**2\n",
    "\n",
    "print(C/1e-15)\n",
    "print(L/1e-9)\n"
   ]
  },
  {
   "cell_type": "markdown",
   "id": "3615d3c0",
   "metadata": {},
   "source": [
    "In our case $C_q= 77.5$ fF, $L_j=13$ nH.\n",
    "\n",
    "The second step consists in choosing the type of qubit we want to design (Transmon, Crossmon, etc.). Due to its simplicity, we chose the Crossmon as our first example. Later, we will see that designing a Transmon is a bit more challenging due to its geometry.\n",
    "\n",
    "We now use Qiskit Metal, an open-source Python framework that allows us to create, visualize, and simulate superconducting quantum devices. Before we can create our qubit, we need to initialize the Qiskit Metal environment, import the required libraries and open the GUI"
   ]
  },
  {
   "cell_type": "code",
   "execution_count": 5,
   "id": "76553498",
   "metadata": {},
   "outputs": [
    {
     "name": "stdout",
     "output_type": "stream",
     "text": [
      "The autoreload extension is already loaded. To reload it, use:\n",
      "  %reload_ext autoreload\n"
     ]
    }
   ],
   "source": [
    "#This cell is a prerequisite, you must inserted it every time you create a new code\n",
    "\n",
    "%load_ext autoreload  \n",
    "%autoreload 2\n",
    "\n",
    "import qiskit_metal as metal\n",
    "from qiskit_metal import designs, draw\n",
    "from qiskit_metal import MetalGUI,Dict, open_docs"
   ]
  },
  {
   "cell_type": "code",
   "execution_count": 2,
   "id": "8b0ea09c",
   "metadata": {},
   "outputs": [],
   "source": [
    "design = designs.DesignPlanar() \n",
    "gui = MetalGUI(design) #to open gui\n"
   ]
  },
  {
   "cell_type": "code",
   "execution_count": 3,
   "id": "d3bc4673",
   "metadata": {},
   "outputs": [],
   "source": [
    "from qiskit_metal.qlibrary.qubits.transmon_cross import TransmonCross\n",
    "design.overwrite_enabled = True\n",
    "\n",
    "design_options=dict(\n",
    "    cross_width= '20um',\n",
    "    cross_length='145um', \n",
    "    cross_gap='20um',\n",
    "    hfss_inductance='13nH',\n",
    "    pos_x='2mm',\n",
    "    )\n",
    "\n",
    "q1 = TransmonCross(design, 'Q1', options=design_options)\n",
    "\n",
    "gui.rebuild()\n",
    "gui.autoscale()"
   ]
  },
  {
   "cell_type": "markdown",
   "id": "29f490e4",
   "metadata": {},
   "source": [
    "After running the code, the Crossmon will appear in the GUI. It can be modified either through the code or directly within the GUI. To verify whether our qubit has the correct dimensions in terms of capacitance, we need to extract the associated capacitance matrix using Ansys Q3D."
   ]
  },
  {
   "cell_type": "code",
   "execution_count": 4,
   "id": "6eb881e6",
   "metadata": {},
   "outputs": [
    {
     "name": "stderr",
     "output_type": "stream",
     "text": [
      "INFO 09:50PM [connect_project]: Connecting to Ansys Desktop API...\n",
      "INFO 09:50PM [load_ansys_project]: \tOpened Ansys App\n",
      "INFO 09:50PM [load_ansys_project]: \tOpened Ansys Desktop v2022.2.0\n",
      "INFO 09:50PM [load_ansys_project]: \tOpened Ansys Project\n",
      "\tFolder:    C:/Users/simona.zaccaria4/Documents/Ansoft/\n",
      "\tProject:   Project31\n",
      "INFO 09:50PM [connect_design]: \tOpened active design\n",
      "\tDesign:    Design_q3d [Solution type: Q3D]\n",
      "INFO 09:50PM [get_setup]: \tOpened setup `Setup`  (<class 'pyEPR.ansys.AnsysQ3DSetup'>)\n",
      "INFO 09:50PM [connect]: \tConnected to project \"Project31\" and design \"Design_q3d\" 😀 \n",
      "\n",
      "INFO 09:50PM [connect_design]: \tOpened active design\n",
      "\tDesign:    Design_q3d [Solution type: Q3D]\n",
      "INFO 09:50PM [get_setup]: \tOpened setup `Setup`  (<class 'pyEPR.ansys.AnsysQ3DSetup'>)\n",
      "INFO 09:50PM [analyze]: Analyzing setup Setup\n",
      "INFO 09:51PM [get_matrix]: Exporting matrix data to (C:\\Users\\SIMONA~1.ZAC\\AppData\\Local\\Temp\\tmpc6n2ipbc.txt, C, , Setup:LastAdaptive, \"Original\", \"ohm\", \"nH\", \"fF\", \"mSie\", 5000000000, Maxwell, 1, False\n",
      "INFO 09:51PM [get_matrix]: Exporting matrix data to (C:\\Users\\SIMONA~1.ZAC\\AppData\\Local\\Temp\\tmpi28na4u3.txt, C, , Setup:AdaptivePass, \"Original\", \"ohm\", \"nH\", \"fF\", \"mSie\", 5000000000, Maxwell, 1, False\n",
      "INFO 09:51PM [get_matrix]: Exporting matrix data to (C:\\Users\\SIMONA~1.ZAC\\AppData\\Local\\Temp\\tmp557ruyql.txt, C, , Setup:AdaptivePass, \"Original\", \"ohm\", \"nH\", \"fF\", \"mSie\", 5000000000, Maxwell, 2, False\n",
      "INFO 09:51PM [get_matrix]: Exporting matrix data to (C:\\Users\\SIMONA~1.ZAC\\AppData\\Local\\Temp\\tmp60mubae5.txt, C, , Setup:AdaptivePass, \"Original\", \"ohm\", \"nH\", \"fF\", \"mSie\", 5000000000, Maxwell, 3, False\n",
      "INFO 09:51PM [get_matrix]: Exporting matrix data to (C:\\Users\\SIMONA~1.ZAC\\AppData\\Local\\Temp\\tmp2iyy86zm.txt, C, , Setup:AdaptivePass, \"Original\", \"ohm\", \"nH\", \"fF\", \"mSie\", 5000000000, Maxwell, 4, False\n",
      "INFO 09:51PM [get_matrix]: Exporting matrix data to (C:\\Users\\SIMONA~1.ZAC\\AppData\\Local\\Temp\\tmpa4jxg6kh.txt, C, , Setup:AdaptivePass, \"Original\", \"ohm\", \"nH\", \"fF\", \"mSie\", 5000000000, Maxwell, 5, False\n",
      "INFO 09:51PM [get_matrix]: Exporting matrix data to (C:\\Users\\SIMONA~1.ZAC\\AppData\\Local\\Temp\\tmpv9jv3r3r.txt, C, , Setup:AdaptivePass, \"Original\", \"ohm\", \"nH\", \"fF\", \"mSie\", 5000000000, Maxwell, 6, False\n",
      "INFO 09:51PM [get_matrix]: Exporting matrix data to (C:\\Users\\SIMONA~1.ZAC\\AppData\\Local\\Temp\\tmplk_0_6ug.txt, C, , Setup:AdaptivePass, \"Original\", \"ohm\", \"nH\", \"fF\", \"mSie\", 5000000000, Maxwell, 7, False\n",
      "INFO 09:51PM [get_matrix]: Exporting matrix data to (C:\\Users\\SIMONA~1.ZAC\\AppData\\Local\\Temp\\tmp8ickvfy4.txt, C, , Setup:AdaptivePass, \"Original\", \"ohm\", \"nH\", \"fF\", \"mSie\", 5000000000, Maxwell, 8, False\n",
      "INFO 09:51PM [get_matrix]: Exporting matrix data to (C:\\Users\\SIMONA~1.ZAC\\AppData\\Local\\Temp\\tmp8uhhoyzb.txt, C, , Setup:AdaptivePass, \"Original\", \"ohm\", \"nH\", \"fF\", \"mSie\", 5000000000, Maxwell, 9, False\n",
      "INFO 09:51PM [get_matrix]: Exporting matrix data to (C:\\Users\\SIMONA~1.ZAC\\AppData\\Local\\Temp\\tmphs837mez.txt, C, , Setup:AdaptivePass, \"Original\", \"ohm\", \"nH\", \"fF\", \"mSie\", 5000000000, Maxwell, 10, False\n",
      "INFO 09:51PM [get_matrix]: Exporting matrix data to (C:\\Users\\SIMONA~1.ZAC\\AppData\\Local\\Temp\\tmpy8ehcaof.txt, C, , Setup:AdaptivePass, \"Original\", \"ohm\", \"nH\", \"fF\", \"mSie\", 5000000000, Maxwell, 11, False\n"
     ]
    },
    {
     "data": {
      "text/html": [
       "<div>\n",
       "<style scoped>\n",
       "    .dataframe tbody tr th:only-of-type {\n",
       "        vertical-align: middle;\n",
       "    }\n",
       "\n",
       "    .dataframe tbody tr th {\n",
       "        vertical-align: top;\n",
       "    }\n",
       "\n",
       "    .dataframe thead th {\n",
       "        text-align: right;\n",
       "    }\n",
       "</style>\n",
       "<table border=\"1\" class=\"dataframe\">\n",
       "  <thead>\n",
       "    <tr style=\"text-align: right;\">\n",
       "      <th></th>\n",
       "      <th>cross_Q1</th>\n",
       "      <th>ground_main_plane</th>\n",
       "    </tr>\n",
       "  </thead>\n",
       "  <tbody>\n",
       "    <tr>\n",
       "      <th>cross_Q1</th>\n",
       "      <td>77.96968</td>\n",
       "      <td>-76.77556</td>\n",
       "    </tr>\n",
       "    <tr>\n",
       "      <th>ground_main_plane</th>\n",
       "      <td>-76.77556</td>\n",
       "      <td>122.01138</td>\n",
       "    </tr>\n",
       "  </tbody>\n",
       "</table>\n",
       "</div>"
      ],
      "text/plain": [
       "                   cross_Q1  ground_main_plane\n",
       "cross_Q1           77.96968          -76.77556\n",
       "ground_main_plane -76.77556          122.01138"
      ]
     },
     "execution_count": 4,
     "metadata": {},
     "output_type": "execute_result"
    }
   ],
   "source": [
    "from qiskit_metal.analyses.quantization import LOManalysis\n",
    "c1=LOManalysis(design, \"q3d\")\n",
    "c1.sim.run(components=['Q1'], open_terminations=[])\n",
    "c1.sim.capacitance_matrix"
   ]
  },
  {
   "cell_type": "markdown",
   "id": "9f9e01e0",
   "metadata": {},
   "source": [
    "A matrix like the one shown aboveshould appear. As we can see, the capacitance of the Crossmon with respect to ground is 76.8 fF, which is approximately the target value we aimed to achieve. Note that, in general, you are unlikely to obtain the desired value on the first attempt. Instead, you should iterate the process—adjusting the Crossmon dimensions and rerunning the Q3D simulation—until the correct size is found.\n",
    "\n",
    "First of all, we need to set up the Ansys HFSS simulation by specifying the number of modes, the inductance value, and a few other parameters, as shown below."
   ]
  },
  {
   "cell_type": "code",
   "execution_count": 6,
   "id": "946575b4",
   "metadata": {},
   "outputs": [
    {
     "data": {
      "text/plain": [
       "{'name': 'Setup',\n",
       " 'reuse_selected_design': True,\n",
       " 'reuse_setup': True,\n",
       " 'min_freq_ghz': 1,\n",
       " 'n_modes': 1,\n",
       " 'max_delta_f': 0.1,\n",
       " 'max_passes': 12,\n",
       " 'min_passes': 1,\n",
       " 'min_converged': 1,\n",
       " 'pct_refinement': 30,\n",
       " 'basis_order': 1,\n",
       " 'vars': {'Lj': '13 nH', 'Cj': '0 fF'}}"
      ]
     },
     "execution_count": 6,
     "metadata": {},
     "output_type": "execute_result"
    }
   ],
   "source": [
    "import pyEPR as epr\n",
    "from qiskit_metal.analyses.quantization import EPRanalysis\n",
    "eig_1qb = EPRanalysis(design, \"hfss\")\n",
    "\n",
    "eig_1qb.sim.setup.max_passes = 12\n",
    "eig_1qb.sim.setup.max_delta_f = 0.1\n",
    "eig_1qb.sim.setup.min_freq_ghz=1\n",
    "eig_1qb.sim.setup.n_modes = 1\n",
    "eig_1qb.sim.setup.vars = Dict(Lj= '13 nH', Cj= '0 fF') \n",
    "\n",
    "eig_1qb.sim.setup"
   ]
  },
  {
   "cell_type": "code",
   "execution_count": 7,
   "id": "352705d2",
   "metadata": {},
   "outputs": [
    {
     "name": "stderr",
     "output_type": "stream",
     "text": [
      "INFO 12:13AM [connect_project]: Connecting to Ansys Desktop API...\n",
      "INFO 12:13AM [load_ansys_project]: \tOpened Ansys App\n",
      "INFO 12:13AM [load_ansys_project]: \tOpened Ansys Desktop v2022.2.0\n",
      "INFO 12:13AM [load_ansys_project]: \tOpened Ansys Project\n",
      "\tFolder:    C:/Users/simona.zaccaria4/Documents/Ansoft/\n",
      "\tProject:   Project31\n",
      "INFO 12:13AM [connect_design]: \tOpened active design\n",
      "\tDesign:    Design_q3d [Solution type: Q3D]\n",
      "INFO 12:13AM [get_setup]: \tOpened setup `Setup`  (<class 'pyEPR.ansys.AnsysQ3DSetup'>)\n",
      "INFO 12:13AM [connect]: \tConnected to project \"Project31\" and design \"Design_q3d\" 😀 \n",
      "\n",
      "INFO 12:13AM [connect_design]: \tOpened active design\n",
      "\tDesign:    Design_hfss [Solution type: Eigenmode]\n",
      "INFO 12:13AM [get_setup]: \tOpened setup `Setup`  (<class 'pyEPR.ansys.HfssEMSetup'>)\n",
      "INFO 12:13AM [analyze]: Analyzing setup Setup\n",
      "12:14AM 20s INFO [get_f_convergence]: Saved convergences to c:\\Users\\simona.zaccaria4\\Desktop\\hfss_eig_f_convergence.csv\n"
     ]
    }
   ],
   "source": [
    "eig_1qb.sim.run(components=['Q1'], open_terminations=[],port_list=[])"
   ]
  },
  {
   "cell_type": "code",
   "execution_count": 12,
   "id": "b9584025",
   "metadata": {},
   "outputs": [
    {
     "name": "stdout",
     "output_type": "stream",
     "text": [
      "4.998056418164591\n"
     ]
    }
   ],
   "source": [
    "import numpy as np\n",
    "f=1/np.sqrt(13e-9*78e-15)/2/np.pi\n",
    "print(f/1e9)"
   ]
  },
  {
   "cell_type": "markdown",
   "id": "828ca57d",
   "metadata": {},
   "source": [
    "The expected frequency is approximately 5 GHz, and the simulation returns a value of 4.86 GHz, which is quite close. The small discrepancy is mainly due to the capacitance not being exactly 77.5 fF and to the limited number of simulation passes.\n",
    "\n",
    "This concludes the first part of how to design a qubit. We have seen how to calculate the capacitance and inductance values starting from the constraints on the qubit's characteristic parameters, and how to size a Crossmon accordingly to match the target values"
   ]
  },
  {
   "cell_type": "markdown",
   "id": "b695b6e7",
   "metadata": {},
   "source": []
  }
 ],
 "metadata": {
  "kernelspec": {
   "display_name": "qiskit-metal",
   "language": "python",
   "name": "python3"
  },
  "language_info": {
   "codemirror_mode": {
    "name": "ipython",
    "version": 3
   },
   "file_extension": ".py",
   "mimetype": "text/x-python",
   "name": "python",
   "nbconvert_exporter": "python",
   "pygments_lexer": "ipython3",
   "version": "3.11.9"
  }
 },
 "nbformat": 4,
 "nbformat_minor": 5
}
